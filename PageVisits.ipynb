{
 "cells": [
  {
   "cell_type": "code",
   "execution_count": null,
   "metadata": {},
   "outputs": [],
   "source": [
    "import pandas as pd\n",
    "\n",
    "visits = pd.read_csv('visits.csv',\n",
    "                     parse_dates=[1])\n",
    "cart = pd.read_csv('cart.csv',\n",
    "                   parse_dates=[1])\n",
    "checkout = pd.read_csv('checkout.csv',\n",
    "                       parse_dates=[1])\n",
    "purchase = pd.read_csv('purchase.csv',\n",
    "                       parse_dates=[1])\n",
    "\n",
    "# print(visits.head())\n",
    "# print(cart.head())\n",
    "# print(checkout.head())\n",
    "# print(purchase.head())\n",
    "\n",
    "\n",
    "visits_cart = pd.merge(visits, cart, how = 'left')\n",
    "print(visits_cart)\n",
    "visits_cart_len = len(visits_cart)\n",
    "print(visits_cart_len)\n",
    "\n",
    "null_cart_times = len(visits_cart[visits_cart.cart_time.isnull()])\n",
    "print(null_cart_times)\n",
    "print(float(null_cart_times)/visits_cart_len)\n",
    "\n",
    "cart_checkout = pd.merge(cart,checkout,how = 'left')\n",
    "print(cart_checkout)\n",
    "\n",
    "cart_checkout_len = len(cart_checkout)\n",
    "null_ckeckout_times = len(cart_checkout[cart_checkout.checkout_time.isnull()])\n",
    "\n",
    "print(float(null_ckeckout_times)/cart_checkout_len)\n",
    "\n",
    "checkout_purchase = pd.merge(checkout, purchase, how = 'left')\n",
    "checkout_purchase_len = len(checkout_purchase)\n",
    "null_purchase_times = len(checkout_purchase[checkout_purchase.purchase_time.isnull()])\n",
    "print(float(null_purchase_times)/checkout_purchase_len)\n",
    "\n",
    "all_data = visits.merge(cart, how = 'left').merge(checkout, how = 'left').merge(purchase, how = 'left')\n",
    "\n",
    "all_data['time_to_purchase'] = \\\n",
    "    all_data.purchase_time - \\\n",
    "    all_data.visit_time\n",
    "# print(all_data.head())\n",
    "print(all_data.time_to_purchase)\n",
    "print(all_data.time_to_purchase.mean())\n",
    "\n"
   ]
  }
 ],
 "metadata": {
  "kernelspec": {
   "display_name": "Python 3",
   "language": "python",
   "name": "python3"
  },
  "language_info": {
   "codemirror_mode": {
    "name": "ipython",
    "version": 3
   },
   "file_extension": ".py",
   "mimetype": "text/x-python",
   "name": "python",
   "nbconvert_exporter": "python",
   "pygments_lexer": "ipython3",
   "version": "3.8.5"
  }
 },
 "nbformat": 4,
 "nbformat_minor": 4
}
